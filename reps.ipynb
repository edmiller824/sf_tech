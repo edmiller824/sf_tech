{
 "cells": [
  {
   "cell_type": "code",
   "execution_count": null,
   "id": "457a3a59",
   "metadata": {},
   "outputs": [
    {
     "data": {
      "text/plain": [
       "{25: 77.0, 24: 75.2, 28: 82.4}"
      ]
     },
     "execution_count": 16,
     "metadata": {},
     "output_type": "execute_result"
    }
   ],
   "source": [
    "\"\"\"\n",
    "Write a for loop that:\n",
    "\t1.\tConverts each temperature to Fahrenheit (F = C * 9/5 + 32)\n",
    "\t2.\tAppends only the Fahrenheit values that are above 75°F to a new list called hot_days_f.\n",
    "\"\"\"\n",
    "# temps = [22, 25, 19, 24, 28, 21, 23]\n",
    "# hot_days_f = []\n",
    "\n",
    "# for t in temps:\n",
    "#     f = (t*(9/5) + 32)\n",
    "#     if f > 75:\n",
    "#         hot_days_f.append(f)\n",
    "\n",
    "# hot_days_f\n",
    "\n",
    "\"\"\"\n",
    "bonus - append both F and C in a dictionary {C:F}\n",
    "\"\"\"\n",
    "temps = [22, 25, 19, 24, 28, 21, 23]\n",
    "\n",
    "hot_days = {}\n",
    "\n",
    "for t in temps:\n",
    "    f = (t*(9/5) + 32)\n",
    "    if f > 75:\n",
    "        hot_days[t] = f \n",
    "\n",
    "hot_days\n",
    "\n",
    "\n",
    "\n"
   ]
  },
  {
   "cell_type": "code",
   "execution_count": null,
   "id": "c7200b46",
   "metadata": {},
   "outputs": [
    {
     "data": {
      "text/plain": [
       "{'csv': 2, 'jpg': 2, 'txt': 2, 'ppt': 1}"
      ]
     },
     "execution_count": 12,
     "metadata": {},
     "output_type": "execute_result"
    }
   ],
   "source": [
    "# You’re given a list of filenames. Write a loop that builds a dictionary where:\n",
    "# \t•\tEach key is a file extension (like 'txt', 'csv', 'jpg')\n",
    "# \t•\tEach value is the number of times that extension appears\n",
    "\n",
    "files = [\n",
    "    \"report.csv\", \"data.csv\", \"image.jpg\", \"notes.txt\",\n",
    "    \"summary.txt\", \"presentation.ppt\", \"photo.jpg\"\n",
    "]\n",
    "\n",
    "solution = {}\n",
    "\n",
    "\n",
    "for f in files:\n",
    "    extensions = f[-3:]\n",
    "    solution[extensions] = solution.get(extensions,0) + 1\n",
    "\n",
    "solution\n"
   ]
  },
  {
   "cell_type": "code",
   "execution_count": null,
   "id": "d5161e3c",
   "metadata": {},
   "outputs": [
    {
     "data": {
      "text/plain": [
       "{'A': 2, 'B': 2, 'C': 2, 'D': 2}"
      ]
     },
     "execution_count": 7,
     "metadata": {},
     "output_type": "execute_result"
    }
   ],
   "source": [
    "# Write a loop that:\n",
    "# \t•\tTallies how many names start with each letter\n",
    "# \t•\tUses .get() to safely update counts in a dictionary\n",
    "\n",
    "names = [\n",
    "    \"Alice\", \"Aaron\", \"Bob\", \"Brenda\", \"Charlie\", \"Catherine\", \"David\", \"Diana\"\n",
    "]\n",
    "\n",
    "first_letter = []\n",
    "solution = {}\n",
    "\n",
    "for n in names:\n",
    "    k = n[0]\n",
    "    solution[k] = solution.get(k,0) + 1\n",
    "\n",
    "solution "
   ]
  },
  {
   "cell_type": "code",
   "execution_count": 2,
   "id": "42575873",
   "metadata": {},
   "outputs": [
    {
     "data": {
      "text/plain": [
       "{'Alice': 4, 'Bob': 3, 'Eve': 3}"
      ]
     },
     "execution_count": 2,
     "metadata": {},
     "output_type": "execute_result"
    }
   ],
   "source": [
    "# Use a for loop to tally how many votes each candidate received\n",
    "\n",
    "votes = [\n",
    "    'Alice', 'Bob', 'Alice', 'Eve', 'Bob', 'Alice', 'Eve', 'Eve', 'Bob', 'Alice'\n",
    "]\n",
    "\n",
    "votes_dict = {}\n",
    "\n",
    "for v in votes:\n",
    "    votes_dict[v] = votes_dict.get(v, 0) + 1\n",
    "\n",
    "votes_dict\n"
   ]
  },
  {
   "cell_type": "code",
   "execution_count": null,
   "id": "3d216607",
   "metadata": {},
   "outputs": [
    {
     "data": {
      "text/plain": [
       "{'the': 4,\n",
       " 'quick': 1,\n",
       " 'brown': 1,\n",
       " 'fox': 2,\n",
       " 'jumps': 1,\n",
       " 'over': 1,\n",
       " 'lazy': 1,\n",
       " 'dog': 2,\n",
       " 'barked': 1,\n",
       " 'and': 1,\n",
       " 'ran': 1,\n",
       " 'away': 1}"
      ]
     },
     "execution_count": 56,
     "metadata": {},
     "output_type": "execute_result"
    }
   ],
   "source": [
    "# Task:\n",
    "# Write a Python function that takes a list of strings (sentences) and returns a dictionary \n",
    "# with the frequency of each word (case-insensitive).\n",
    "\n",
    "\n",
    "sentences = [\n",
    "    \"The quick brown fox jumps over the lazy dog.\",\n",
    "    \"The dog barked, and the fox ran away!\"\n",
    "]\n",
    "s_list = []\n",
    "\n",
    "for s in sentences:\n",
    "    s_split = s.split()\n",
    "    for w in s_split:\n",
    "        s_list.append(w.lower().strip(',.!'))\n",
    "\n",
    "s_unique = []\n",
    "for word in s_list:\n",
    "    if word not in s_unique:\n",
    "        s_unique.append(word)\n",
    "\n",
    "a_dict = {}\n",
    "for j in s_unique:\n",
    "    a_dict[j] = s_list.count(j)\n",
    "\n",
    "a_dict\n",
    "\n",
    "\n",
    "\n",
    "\n"
   ]
  },
  {
   "cell_type": "code",
   "execution_count": null,
   "id": "952a52a0",
   "metadata": {},
   "outputs": [],
   "source": []
  },
  {
   "cell_type": "code",
   "execution_count": 33,
   "id": "94e1c085",
   "metadata": {},
   "outputs": [
    {
     "data": {
      "text/plain": [
       "[2, 0, 5, 2]"
      ]
     },
     "execution_count": 33,
     "metadata": {},
     "output_type": "execute_result"
    }
   ],
   "source": [
    "\n",
    "vowels = ['a','e','i','o','u']\n",
    "words = ['apple', 'sky', 'education', 'loop']\n",
    "solution = []\n",
    "for w in words:\n",
    "    counter = 0\n",
    "    for l in w:\n",
    "        if l in vowels:\n",
    "            counter += 1\n",
    "    solution.append(counter)\n",
    "\n",
    "solution"
   ]
  },
  {
   "cell_type": "code",
   "execution_count": 39,
   "id": "175a680a",
   "metadata": {},
   "outputs": [
    {
     "data": {
      "text/plain": [
       "3"
      ]
     },
     "execution_count": 39,
     "metadata": {},
     "output_type": "execute_result"
    }
   ],
   "source": [
    "# get longest word in a text\n",
    "text = \"Learning Python with practicing builds strong coding muscle memory\"\n",
    "words = text.split()\n",
    "lengths = []\n",
    "for w in words:\n",
    "    lengths.append(len(w))\n",
    "\n",
    "biggest = max(lengths)\n",
    "lengths.index(biggest)\n"
   ]
  },
  {
   "cell_type": "code",
   "execution_count": null,
   "id": "2f04f0fc",
   "metadata": {},
   "outputs": [],
   "source": [
    "\"\"\"\n",
    "Find the distance between the two furthest apart values in a list.\n",
    "Create a dist function, receiving a list of numbers (integers or floating points), \n",
    "and returning the bigger distance between any two given values, \n",
    "so typically the distance between the biggest and the smallest, like:\n",
    ">>> dist([1, 2, 3])\n",
    "2\n",
    "\"\"\""
   ]
  },
  {
   "cell_type": "code",
   "execution_count": null,
   "id": "989011d0",
   "metadata": {},
   "outputs": [],
   "source": [
    "\"\"\"\n",
    "Write a function named from_roman_numeral that return the value of a given roman numeral.\n",
    "\"\"\"\n",
    "\n",
    "\n",
    "I = 1\n",
    "V = 5\n",
    "X = 10\n",
    "L = 50\n",
    "C = 100\n",
    "M = 1000\n",
    "\n",
    "roman_str = 'IV'\n",
    "viii\n",
    "xvii\n",
    "xxiv\n",
    "\n",
    "curr\n",
    "next\n",
    "later\n",
    "\n",
    "if next is null, +=curr\n",
    "if next <= current, +=curr\n",
    "if next > curr, then -=curr\n",
    "\n",
    "if more than 3 consecutive characters, error\n"
   ]
  },
  {
   "cell_type": "code",
   "execution_count": null,
   "id": "99168652",
   "metadata": {},
   "outputs": [],
   "source": [
    "\"\"\"\n",
    "You found a safe. There's a numeric keypad on it...\n",
    "The keypad is dirty, thanks to this you can easily spot that numbers 1, 5, and 8 are frequently used. \n",
    "It's so clear that you guess no other digit is in use in this code.\n",
    "Write a script printing all combinations of 4 digits that use all of those used digits.\n",
    "Output one combination per line, separate digits using spaces, so your output should look like:\n",
    "1 1 5 8\n",
    "1 5 5 8\n",
    "1 5 8 8\n",
    "\"\"\""
   ]
  },
  {
   "cell_type": "code",
   "execution_count": null,
   "id": "5f6d06cd",
   "metadata": {},
   "outputs": [],
   "source": [
    "\"\"\"\n",
    "Write a function combining two strings so they are displayed side by side, separated by a column of pipe (|) symbols, like this:\n",
    "Lorem ipsum dolor sit amet, consectetur|Lorem ipsum dolor sit amet, consectetur\n",
    "adipiscing elit. Sed non risus.        |adipiscing elit. Sed non risus.        \n",
    "Suspendisse lectus tortor, dignissim   |Suspendisse lectus tortor, dignissim   \n",
    "sit amet, adipiscing nec, utilisez sed |sit amet, adipiscing nec, utilisez sed \n",
    "sin dolor.                             |sin dolor. \n",
    "\n",
    "This function will also take a 3rd, optional, parameter named width representing the maximum width allowed, defaulting to 79, so the function prototype is:\n",
    "\"\"\""
   ]
  },
  {
   "cell_type": "code",
   "execution_count": null,
   "id": "c054fd44",
   "metadata": {},
   "outputs": [],
   "source": [
    "\"\"\"\n",
    "Implement the fill_magic_square function.\n",
    "It takes a single argument: a numpy.array of integers representing a partially filled magic square. Holes are represented using zeros.\n",
    "Your fill_magic_square function will have to find and fill the gaps in the square.\n",
    "Do not return a value, just modify the square in-place.\n",
    "Beware, my magic squares may contain any natural number (> 0), I do not restrict myself to magic squares with numbers from 1 to square_size ** 2.\n",
    "\n",
    "easy_square = np.array([\n",
    "    [2, 7, 6],\n",
    "    [9, 0, 1],\n",
    "    [4, 3, 8],\n",
    "])\n",
    "fill_magic_square(easy_square)\n",
    "print(easy_square)\n",
    "\n",
    "Should give:\n",
    "array([[ 2, 7, 6 ],\n",
    "       [ 9, 5, 1 ],\n",
    "       [ 4, 3, 8 ]]])\n",
    "\n",
    "\"\"\""
   ]
  },
  {
   "cell_type": "markdown",
   "id": "5a3597c0",
   "metadata": {},
   "source": [
    "##### **Hangman ---> Python game by E**"
   ]
  },
  {
   "cell_type": "code",
   "execution_count": null,
   "id": "c9036a20",
   "metadata": {},
   "outputs": [],
   "source": [
    "# num_letters = int(input(\"welcome to hell...I mean, hangman. Six wrong guesses and I win. hahaha...how many letters do you want the answer to have? \"))\n",
    "\n",
    "# # generate a word with num_letters letters\n",
    "# answer_string = \"doggy\"\n",
    "# answer_list = []\n",
    "# starting_list = []\n",
    "\n",
    "# for a in answer_string:\n",
    "#     answer_list.append(a)\n",
    "\n",
    "# for s in range(num_letters):\n",
    "#     starting_list.append(\"-\")\n",
    "\n",
    "#     # change the above to a string? \"-\"\n",
    "\n",
    "# # other variables\n",
    "# guess_list = []\n",
    "# chances = 6\n",
    "# chance_counter = 0\n"
   ]
  },
  {
   "cell_type": "code",
   "execution_count": null,
   "id": "e8297a99",
   "metadata": {},
   "outputs": [
    {
     "name": "stdout",
     "output_type": "stream",
     "text": [
      "well played. I concede - you win.\n"
     ]
    }
   ],
   "source": [
    "# guess = input(f\"the word is {starting_list}. You get {chances} chances - guess a letter, or guess the word: \")\n",
    "# if guess == answer_string:\n",
    "#     print(\"damn, you're good. I quit!\")\n",
    "\n",
    "# while (guess != answer_string) & (chance_counter < 6) & (starting_list != answer_list):\n",
    "#     # word is selected\n",
    "#     if len(guess) > 1:\n",
    "\n",
    "#     # word is correct\n",
    "#         if guess == answer_string:\n",
    "#             print(\"you WIN!\")\n",
    "\n",
    "#     # word is incorrect\n",
    "#         else:\n",
    "#             chance_counter += 1\n",
    "#             guess = input(f\"nope! that's {chance_counter} out of 6 guesses. guess a letter, or the word: {starting_list}\")\n",
    "\n",
    "\n",
    "#     # letter is selected\n",
    "#     else:\n",
    "#         if guess in guess_list:\n",
    "#             guess = input(f\"you guessed that letter already - try a different one {starting_list}: \")\n",
    "#     # letter is correct\n",
    "#         elif guess in answer_string:\n",
    "#             yes_list = []\n",
    "#             guess_list.append(guess)\n",
    "#             for letter_ind in range(len(answer_list)):\n",
    "#                 if answer_list[letter_ind] == guess:\n",
    "#                     yes_list.append(letter_ind)\n",
    "            \n",
    "#             for m in yes_list:\n",
    "#                 starting_list[m] = guess\n",
    "#             if starting_list == answer_list:\n",
    "#                 print(\"well played. I concede - you win.\")        \n",
    "#                 break  \n",
    "#             else:\n",
    "#                 guess = input(f\"Sure, that letter's in there: {starting_list}. guess a letter, or the word: \")\n",
    "\n",
    "    \n",
    "#     # letter is incorrect\n",
    "#         else:\n",
    "#             guess_list.append(guess)\n",
    "            \n",
    "#             if chance_counter == 6:\n",
    "#                 print(\"Got 'eeeeem! I win\")\n",
    "#                 break\n",
    "#             else:\n",
    "#                 guess = input(f\"nope! that's {chance_counter} out of 6 guesses. guess a letter, or the word: {starting_list}\")\n",
    "#                 chance_counter += 1\n",
    "\n",
    "\n"
   ]
  },
  {
   "cell_type": "markdown",
   "id": "1d1675e1",
   "metadata": {},
   "source": []
  },
  {
   "cell_type": "code",
   "execution_count": null,
   "id": "20ea84f2",
   "metadata": {},
   "outputs": [],
   "source": []
  },
  {
   "cell_type": "code",
   "execution_count": null,
   "id": "bf065bf1",
   "metadata": {},
   "outputs": [
    {
     "data": {
      "text/plain": [
       "24"
      ]
     },
     "execution_count": 70,
     "metadata": {},
     "output_type": "execute_result"
    }
   ],
   "source": [
    "# # Provide a script that prints the number of words in the given paragraph.\n",
    "# # I prefilled the answer box with the paragraph, in a variable, but in case you lose it, here it is:\n",
    "\n",
    "# #   - remove punctuation\n",
    "# #   - all lowercase\n",
    "\n",
    "# # whetting_your_appetite = \"Python is an easy to learn, powerful programming language. It has efficient high level data structures and a simple but effective approach to object oriented programming. This tutorial introduces the reader informally to the basic concepts and features of the Python language and system. For a description of standard objects and modules...\"\n",
    "# word_count = \"I am using Python. This is a string with has words. I am counting the words, words, words, using python python python python python\"\n",
    "\n",
    "# word_split = word_count.split()\n",
    "# counter = 0\n",
    "\n",
    "# # count total words\n",
    "# word_list = []\n",
    "# for word in word_split:\n",
    "#     word_list.append(word.lower().strip(\".,\"))\n",
    "#     counter += 1\n",
    "\n",
    "# counter\n",
    "# # word_list\n",
    "\n",
    "# # can you also count the number of each word - output as a list\n",
    "\n",
    "# deduped = []\n",
    "# for i in word_list:\n",
    "#     if i not in deduped:\n",
    "#         deduped.append(i)\n",
    "#     else:\n",
    "#         deduped = deduped\n",
    "\n",
    "# # deduped\n",
    "\n",
    "# word_dict = {}\n",
    "\n",
    "# for k in deduped:\n",
    "#     val = 0\n",
    "#     for v in word_list:\n",
    "#         if k == v:\n",
    "#             val += 1\n",
    "#         word_dict[k] = val\n",
    "\n",
    "# word_dict\n",
    "\n",
    "\n",
    "\n"
   ]
  },
  {
   "cell_type": "code",
   "execution_count": null,
   "id": "67f8f73a",
   "metadata": {},
   "outputs": [
    {
     "name": "stdout",
     "output_type": "stream",
     "text": [
      "4\n",
      "[1, 3, 127, 381]\n",
      "unprime\n"
     ]
    }
   ],
   "source": [
    "# # Ask the user for a number and determine whether the number is prime or not. \n",
    "\n",
    "# num = int(input(\"let's check a numbers prime-ability. enter one: \"))\n",
    "# counter = 0\n",
    "# factors = []\n",
    "# for i in range(1, num + 1):\n",
    "#     if num % i == 0:\n",
    "#         counter += 1\n",
    "#         factors.append(i)\n",
    "#     else:\n",
    "#         counter = counter\n",
    "\n",
    "# print(counter)\n",
    "# print(factors)\n",
    "# if counter <= 2:\n",
    "#     print(\"PRIME\")\n",
    "# else:\n",
    "#     print(\"unprime\")\n"
   ]
  }
 ],
 "metadata": {
  "kernelspec": {
   "display_name": ".sfvenv",
   "language": "python",
   "name": "python3"
  },
  "language_info": {
   "codemirror_mode": {
    "name": "ipython",
    "version": 3
   },
   "file_extension": ".py",
   "mimetype": "text/x-python",
   "name": "python",
   "nbconvert_exporter": "python",
   "pygments_lexer": "ipython3",
   "version": "3.12.7"
  }
 },
 "nbformat": 4,
 "nbformat_minor": 5
}
